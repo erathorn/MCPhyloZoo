{
 "cells": [
  {
   "cell_type": "markdown",
   "metadata": {},
   "source": [
    "# Phylogenetic Inference using PNUTS\n",
    "\n",
    "This notebook gives an example on how to do phylogenetic inference using the PNUTS algorithm described in Wahle (2021) ([bioRxiv Paper](https://doi.org/10.1101/2021.03.16.435623)).\n",
    "\n",
    "First the `MCPhylo` package and the `Random` package are loaded."
   ]
  },
  {
   "cell_type": "code",
   "execution_count": 10,
   "metadata": {},
   "outputs": [],
   "source": [
    "using MCPhylo;\n",
    "using Random;\n",
    "Random.seed!(1234);"
   ]
  },
  {
   "cell_type": "markdown",
   "metadata": {},
   "source": [
    "The next step is to load the data."
   ]
  },
  {
   "cell_type": "code",
   "execution_count": 11,
   "metadata": {
    "scrolled": true
   },
   "outputs": [
    {
     "name": "stderr",
     "output_type": "stream",
     "text": [
      "┌ Warning: Keyword datatype not understood, will be ignored\n",
      "└ @ MCPhylo C:\\Programming\\MCPhylo.jl\\src\\Parser\\ParseNexus.jl:90\n",
      "┌ Warning: Keyword interleave not understood, will be ignored\n",
      "└ @ MCPhylo C:\\Programming\\MCPhylo.jl\\src\\Parser\\ParseNexus.jl:90\n"
     ]
    }
   ],
   "source": [
    "tree, data = make_tree_with_data(\"Example.nex\");"
   ]
  },
  {
   "cell_type": "markdown",
   "metadata": {},
   "source": [
    "The `tree` object contains a r random tree over the leaves specified in the nexus file. You can view a newick string representing the tree by calling the `newick` function on the object."
   ]
  },
  {
   "cell_type": "code",
   "execution_count": 12,
   "metadata": {},
   "outputs": [
    {
     "data": {
      "text/plain": [
       "\"((Lang3:0.9646697763820897,((Lang5:0.2986142783434118,Lang4:0.24683718661000897)6:0.646690981531646,Lang1:0.11248587118714015)7:0.9457754052519123)8:0.8211604203482923,Lang2:0.03416010848943718)9:1.0;\""
      ]
     },
     "metadata": {},
     "output_type": "display_data"
    }
   ],
   "source": [
    "newick(tree)"
   ]
  },
  {
   "cell_type": "markdown",
   "metadata": {},
   "source": [
    "The input data needs to be stored in a dictionary to make it accessible to the sampler."
   ]
  },
  {
   "cell_type": "code",
   "execution_count": 13,
   "metadata": {
    "scrolled": true
   },
   "outputs": [],
   "source": [
    "data_dictionary = Dict{Symbol, Any}(\n",
    "  :data => data\n",
    ");"
   ]
  },
  {
   "cell_type": "markdown",
   "metadata": {},
   "source": [
    "Define a model by specifing a prior distribution on the equilibrium frequencis, a Dirichlet prior in this case, and a prior on the phylogenetic tree. In this example the Compound Dirichlet distribution (Zhang, Rannala and Yang 2012. ([paper](https://doi.org/10.1093/sysbio/sys030))) is chosen.\n",
    "\n",
    "The distribution associated with the data is the `PhyloDist`. It is a distribution whose likelihood function is calculated according to Felsensteins Pruning algorithm ([paper](https://doi.org/10.1007/BF01734359)).\n",
    "\n",
    "The *Restriction Site Model* for character evolution and no rate variation accross sites is chosen."
   ]
  },
  {
   "cell_type": "code",
   "execution_count": 15,
   "metadata": {},
   "outputs": [
    {
     "data": {
      "text/plain": [
       "Object of type \"Model\"\n",
       "-------------------------------------------------------------------------------\n",
       "eq_freq:\n",
       "Object of type \"Stochastic{Vector{Float64}}\"\n",
       "Float64[]\n",
       "-------------------------------------------------------------------------------\n",
       "tree:\n",
       "Object of type \"Stochastic{GeneralNode{Float64, Int64}}\"\n",
       "Tree with root:\n",
       "\"no_name\"\n",
       "Length:\n",
       "0.0\n",
       "Height:\n",
       "0.0\n",
       "-------------------------------------------------------------------------------\n",
       "data:\n",
       "Object of type \"Stochastic{Array{Float64, 3}}\"\n",
       "Array{Float64, 3}(undef, 0, 0, 0)\n"
      ]
     },
     "metadata": {},
     "output_type": "display_data"
    },
    {
     "name": "stderr",
     "output_type": "stream",
     "text": [
      "WARNING: both DataStructures and MCPhyloTree export \"find_root\"; uses of it in module MCPhylo must be qualified\n",
      "WARNING: both Plots and LinearAlgebra export \"rotate!\"; uses of it in module MCPhylo must be qualified\n"
     ]
    }
   ],
   "source": [
    "model =  Model(\n",
    "    data = Stochastic(3, (tree, eq_freq) ->  PhyloDist(tree, eq_freq, [1.0], [1.0], Restriction), false),\n",
    "    eq_freq = Stochastic(1, () -> Dirichlet(2,1),true),\n",
    "    tree = Stochastic(Node(), () -> TreeDistribution(CompoundDirichlet(1.0,1.0,0.100,1.0)), true)\n",
    "     )"
   ]
  },
  {
   "cell_type": "markdown",
   "metadata": {},
   "source": [
    "Select the PNUTS sampler for the phylogenetic tree and the Slice sampler for the equilibrium frequency."
   ]
  },
  {
   "cell_type": "code",
   "execution_count": 17,
   "metadata": {},
   "outputs": [],
   "source": [
    "scheme = [PNUTS(:tree, target=0.7, targetNNI=0.5),\n",
    "          SliceSimplex(:eq_freq),\n",
    "          ]\n",
    "setsamplers!(model, scheme);"
   ]
  },
  {
   "cell_type": "markdown",
   "metadata": {},
   "source": [
    "Set initial values."
   ]
  },
  {
   "cell_type": "code",
   "execution_count": 18,
   "metadata": {},
   "outputs": [],
   "source": [
    "inits = [ Dict{Symbol, Union{Any, Real}}(\n",
    "    :tree => tree,\n",
    "    :eq_freq=> rand(Dirichlet(2,1)),\n",
    "    :data => data_dictionary[:data]\n",
    "    ),\n",
    "    ];"
   ]
  },
  {
   "cell_type": "markdown",
   "metadata": {},
   "source": [
    "Run the MCMC. The statusbar is suppressed via the `verbose` argument, to avoid a cluttering of the output."
   ]
  },
  {
   "cell_type": "code",
   "execution_count": 19,
   "metadata": {},
   "outputs": [
    {
     "name": "stdout",
     "output_type": "stream",
     "text": [
      "MCMC Simulation of 5000 Iterations x 1 Chain..."
     ]
    },
    {
     "name": "stdout",
     "output_type": "stream",
     "text": [
      "\n"
     ]
    },
    {
     "name": "stderr",
     "output_type": "stream",
     "text": [
      "\r\u001b[32mChain 1:   0%|█                           |  ETA: 1 days, 5:56:37 (21.57  s/it)\u001b[39m\u001b[K"
     ]
    },
    {
     "name": "stderr",
     "output_type": "stream",
     "text": [
      "\r\u001b[32mChain 1:   2%|█                           |  ETA: 0:36:02 ( 0.44  s/it)\u001b[39m\u001b[K"
     ]
    },
    {
     "name": "stderr",
     "output_type": "stream",
     "text": [
      "\r\u001b[32mChain 1:   3%|█                           |  ETA: 0:24:32 ( 0.30  s/it)\u001b[39m\u001b[K"
     ]
    },
    {
     "name": "stderr",
     "output_type": "stream",
     "text": [
      "\r\u001b[32mChain 1:   3%|█                           |  ETA: 0:22:51 ( 0.28  s/it)\u001b[39m\u001b[K"
     ]
    },
    {
     "name": "stderr",
     "output_type": "stream",
     "text": [
      "\r\u001b[32mChain 1:   4%|█                           |  ETA: 0:20:40 ( 0.26  s/it)\u001b[39m\u001b[K"
     ]
    },
    {
     "name": "stderr",
     "output_type": "stream",
     "text": [
      "\r\u001b[32mChain 1:   4%|██                          |  ETA: 0:19:22 ( 0.24  s/it)\u001b[39m\u001b[K"
     ]
    },
    {
     "name": "stderr",
     "output_type": "stream",
     "text": [
      "\r\u001b[32mChain 1:   4%|██                          |  ETA: 0:16:48 ( 0.21  s/it)\u001b[39m\u001b[K"
     ]
    },
    {
     "name": "stderr",
     "output_type": "stream",
     "text": [
      "\r\u001b[32mChain 1:   5%|██                          |  ETA: 0:15:53 ( 0.20  s/it)\u001b[39m\u001b[K"
     ]
    },
    {
     "name": "stderr",
     "output_type": "stream",
     "text": [
      "\r\u001b[32mChain 1:   5%|██                          |  ETA: 0:14:32 ( 0.18  s/it)\u001b[39m\u001b[K"
     ]
    },
    {
     "name": "stderr",
     "output_type": "stream",
     "text": [
      "\r\u001b[32mChain 1:   5%|██                          |  ETA: 0:13:37 ( 0.17  s/it)\u001b[39m\u001b[K"
     ]
    },
    {
     "name": "stderr",
     "output_type": "stream",
     "text": [
      "\r\u001b[32mChain 1:   6%|██                          |  ETA: 0:12:57 ( 0.16  s/it)\u001b[39m\u001b[K"
     ]
    },
    {
     "name": "stderr",
     "output_type": "stream",
     "text": [
      "\r\u001b[32mChain 1:   6%|██                          |  ETA: 0:12:24 ( 0.16  s/it)\u001b[39m\u001b[K"
     ]
    },
    {
     "name": "stderr",
     "output_type": "stream",
     "text": [
      "\r\u001b[32mChain 1:   6%|██                          |  ETA: 0:12:08 ( 0.16  s/it)\u001b[39m\u001b[K"
     ]
    },
    {
     "name": "stderr",
     "output_type": "stream",
     "text": [
      "\r\u001b[32mChain 1:   6%|██                          |  ETA: 0:11:43 ( 0.15  s/it)\u001b[39m\u001b[K"
     ]
    },
    {
     "name": "stderr",
     "output_type": "stream",
     "text": [
      "\r\u001b[32mChain 1:   7%|██                          |  ETA: 0:11:15 ( 0.14  s/it)\u001b[39m\u001b[K"
     ]
    },
    {
     "name": "stderr",
     "output_type": "stream",
     "text": [
      "\r\u001b[32mChain 1:   7%|██                          |  ETA: 0:10:46 ( 0.14  s/it)\u001b[39m\u001b[K"
     ]
    },
    {
     "name": "stderr",
     "output_type": "stream",
     "text": [
      "\r\u001b[32mChain 1:   7%|███                         |  ETA: 0:10:13 ( 0.13  s/it)\u001b[39m\u001b[K"
     ]
    },
    {
     "name": "stderr",
     "output_type": "stream",
     "text": [
      "\r\u001b[32mChain 1:   8%|███                         |  ETA: 0:09:48 ( 0.13  s/it)\u001b[39m\u001b[K"
     ]
    },
    {
     "name": "stderr",
     "output_type": "stream",
     "text": [
      "\r\u001b[32mChain 1:   8%|███                         |  ETA: 0:09:28 ( 0.12  s/it)\u001b[39m\u001b[K"
     ]
    },
    {
     "name": "stderr",
     "output_type": "stream",
     "text": [
      "\r\u001b[32mChain 1:   8%|███                         |  ETA: 0:08:49 ( 0.12  s/it)\u001b[39m\u001b[K"
     ]
    },
    {
     "name": "stderr",
     "output_type": "stream",
     "text": [
      "\r\u001b[32mChain 1:   9%|███                         |  ETA: 0:08:32 ( 0.11  s/it)\u001b[39m\u001b[K"
     ]
    },
    {
     "name": "stderr",
     "output_type": "stream",
     "text": [
      "\r\u001b[32mChain 1:   9%|███                         |  ETA: 0:08:13 ( 0.11  s/it)\u001b[39m\u001b[K"
     ]
    },
    {
     "name": "stderr",
     "output_type": "stream",
     "text": [
      "\r\u001b[32mChain 1:   9%|███                         |  ETA: 0:07:56 ( 0.11  s/it)\u001b[39m\u001b[K"
     ]
    },
    {
     "name": "stderr",
     "output_type": "stream",
     "text": [
      "\r\u001b[32mChain 1:  10%|███                         |  ETA: 0:07:40 ( 0.10  s/it)\u001b[39m\u001b[K"
     ]
    },
    {
     "name": "stderr",
     "output_type": "stream",
     "text": [
      "\r\u001b[32mChain 1:  10%|███                         |  ETA: 0:07:27 (99.18 ms/it)\u001b[39m\u001b[K"
     ]
    },
    {
     "name": "stderr",
     "output_type": "stream",
     "text": [
      "\r\u001b[32mChain 1:  10%|███                         |  ETA: 0:07:22 (98.26 ms/it)\u001b[39m\u001b[K"
     ]
    },
    {
     "name": "stderr",
     "output_type": "stream",
     "text": [
      "\r\u001b[32mChain 1:  10%|███                         |  ETA: 0:07:15 (96.95 ms/it)\u001b[39m\u001b[K"
     ]
    },
    {
     "name": "stderr",
     "output_type": "stream",
     "text": [
      "\r\u001b[32mChain 1:  10%|███                         |  ETA: 0:07:13 (96.54 ms/it)\u001b[39m\u001b[K"
     ]
    },
    {
     "name": "stderr",
     "output_type": "stream",
     "text": [
      "\r\u001b[32mChain 1:  11%|███                         |  ETA: 0:07:05 (94.98 ms/it)\u001b[39m\u001b[K"
     ]
    },
    {
     "name": "stderr",
     "output_type": "stream",
     "text": [
      "\r\u001b[32mChain 1:  11%|████                        |  ETA: 0:06:59 (93.75 ms/it)\u001b[39m\u001b[K"
     ]
    },
    {
     "name": "stderr",
     "output_type": "stream",
     "text": [
      "\r\u001b[32mChain 1:  11%|████                        |  ETA: 0:06:49 (91.93 ms/it)\u001b[39m\u001b[K"
     ]
    },
    {
     "name": "stderr",
     "output_type": "stream",
     "text": [
      "\r\u001b[32mChain 1:  11%|████                        |  ETA: 0:06:42 (90.48 ms/it)\u001b[39m\u001b[K"
     ]
    },
    {
     "name": "stderr",
     "output_type": "stream",
     "text": [
      "\r\u001b[32mChain 1:  11%|████                        |  ETA: 0:06:35 (89.10 ms/it)\u001b[39m\u001b[K"
     ]
    },
    {
     "name": "stderr",
     "output_type": "stream",
     "text": [
      "\r\u001b[32mChain 1:  12%|████                        |  ETA: 0:06:25 (87.21 ms/it)\u001b[39m\u001b[K"
     ]
    },
    {
     "name": "stderr",
     "output_type": "stream",
     "text": [
      "\r\u001b[32mChain 1:  12%|████                        |  ETA: 0:06:17 (85.58 ms/it)\u001b[39m\u001b[K"
     ]
    },
    {
     "name": "stderr",
     "output_type": "stream",
     "text": [
      "\r\u001b[32mChain 1:  12%|████                        |  ETA: 0:06:10 (84.28 ms/it)\u001b[39m\u001b[K"
     ]
    },
    {
     "name": "stderr",
     "output_type": "stream",
     "text": [
      "\r\u001b[32mChain 1:  12%|████                        |  ETA: 0:06:02 (82.69 ms/it)\u001b[39m\u001b[K"
     ]
    },
    {
     "name": "stderr",
     "output_type": "stream",
     "text": [
      "\r\u001b[32mChain 1:  13%|████                        |  ETA: 0:05:55 (81.32 ms/it)\u001b[39m\u001b[K"
     ]
    },
    {
     "name": "stderr",
     "output_type": "stream",
     "text": [
      "\r\u001b[32mChain 1:  14%|████                        |  ETA: 0:05:20 (74.50 ms/it)\u001b[39m\u001b[K"
     ]
    },
    {
     "name": "stderr",
     "output_type": "stream",
     "text": [
      "\r\u001b[32mChain 1:  14%|████                        |  ETA: 0:05:16 (73.73 ms/it)\u001b[39m\u001b[K"
     ]
    },
    {
     "name": "stderr",
     "output_type": "stream",
     "text": [
      "\r\u001b[32mChain 1:  14%|█████                       |  ETA: 0:05:13 (73.03 ms/it)\u001b[39m\u001b[K"
     ]
    },
    {
     "name": "stderr",
     "output_type": "stream",
     "text": [
      "\r\u001b[32mChain 1:  15%|█████                       |  ETA: 0:05:10 (72.52 ms/it)\u001b[39m\u001b[K"
     ]
    },
    {
     "name": "stderr",
     "output_type": "stream",
     "text": [
      "\r\u001b[32mChain 1:  15%|█████                       |  ETA: 0:05:01 (70.82 ms/it)\u001b[39m\u001b[K"
     ]
    },
    {
     "name": "stderr",
     "output_type": "stream",
     "text": [
      "\r\u001b[32mChain 1:  15%|█████                       |  ETA: 0:04:58 (70.22 ms/it)\u001b[39m\u001b[K"
     ]
    },
    {
     "name": "stderr",
     "output_type": "stream",
     "text": [
      "\r\u001b[32mChain 1:  15%|█████                       |  ETA: 0:04:55 (69.58 ms/it)\u001b[39m\u001b[K"
     ]
    },
    {
     "name": "stderr",
     "output_type": "stream",
     "text": [
      "\r\u001b[32mChain 1:  16%|█████                       |  ETA: 0:04:49 (68.50 ms/it)\u001b[39m\u001b[K"
     ]
    },
    {
     "name": "stderr",
     "output_type": "stream",
     "text": [
      "\r\u001b[32mChain 1:  16%|█████                       |  ETA: 0:04:44 (67.55 ms/it)\u001b[39m\u001b[K"
     ]
    }
   ],
   "source": [
    "sim = mcmc(model, data_dictionary, inits, 5000, burnin=2500,thin=5, chains=1, trees=true, verbose=false)"
   ]
  }
 ],
 "metadata": {
  "celltoolbar": "Raw Cell Format",
  "kernelspec": {
   "display_name": "Julia 1.6.0",
   "language": "julia",
   "name": "julia-1.6"
  },
  "language_info": {
   "file_extension": ".jl",
   "mimetype": "application/julia",
   "name": "julia",
   "version": "1.6.0"
  }
 },
 "nbformat": 4,
 "nbformat_minor": 4
}
