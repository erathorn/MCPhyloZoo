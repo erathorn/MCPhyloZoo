{
 "cells": [
  {
   "cell_type": "markdown",
   "metadata": {},
   "source": [
    "# Phylogenetic Inference using PNUTS\n",
    "\n",
    "This notebook gives an example on how to do phylogenetic inference using the PNUTS algorithm described in Wahle (2021) ([bioRxiv Paper](https://doi.org/10.1101/2021.03.16.435623))\n",
    "\n",
    "First the `MCPhylo` package and the `Random` package are loaded."
   ]
  },
  {
   "cell_type": "code",
   "execution_count": 1,
   "metadata": {},
   "outputs": [],
   "source": [
    "using MCPhylo;\n",
    "using Random;\n",
    "Random.seed!(1234);"
   ]
  },
  {
   "cell_type": "markdown",
   "metadata": {},
   "source": [
    "The next step is to load the data."
   ]
  },
  {
   "cell_type": "code",
   "execution_count": 2,
   "metadata": {
    "scrolled": true
   },
   "outputs": [
    {
     "name": "stderr",
     "output_type": "stream",
     "text": [
      "┌ Warning: Keyword datatype not understood, will be ignored\n",
      "└ @ MCPhylo C:\\Users\\Johannes\\.julia\\packages\\MCPhylo\\wj70o\\src\\Parser\\ParseNexus.jl:89\n",
      "┌ Warning: Keyword interleave not understood, will be ignored\n",
      "└ @ MCPhylo C:\\Users\\Johannes\\.julia\\packages\\MCPhylo\\wj70o\\src\\Parser\\ParseNexus.jl:89\n"
     ]
    }
   ],
   "source": [
    "tree, data = make_tree_with_data(\"Example.nex\");"
   ]
  },
  {
   "cell_type": "markdown",
   "metadata": {},
   "source": [
    "The `tree` object contains a r random tree over the leaves specified in the nexus file. You can view a newick string representing the tree by calling the `newick` function on the object."
   ]
  },
  {
   "cell_type": "code",
   "execution_count": 3,
   "metadata": {},
   "outputs": [
    {
     "data": {
      "text/plain": [
       "\"(Lang3:0.9646697763820897,Lang2:0.7899036826169576,((Lang5:0.2986142783434118,Lang4:0.24683718661000897)6:0.646690981531646,Lang1:0.11248587118714015)7:0.9457754052519123)8:1.0;\""
      ]
     },
     "execution_count": 3,
     "metadata": {},
     "output_type": "execute_result"
    }
   ],
   "source": [
    "newick(tree)"
   ]
  },
  {
   "cell_type": "markdown",
   "metadata": {},
   "source": [
    "The input data needs to be stored in a dictionary to make it accessible to the sampler."
   ]
  },
  {
   "cell_type": "code",
   "execution_count": 4,
   "metadata": {
    "scrolled": true
   },
   "outputs": [],
   "source": [
    "data_dictionary = Dict{Symbol, Any}(\n",
    "  :data => data\n",
    ");"
   ]
  },
  {
   "cell_type": "markdown",
   "metadata": {},
   "source": [
    "Define a model by specifing a prior distribution on the equilibrium frequencis, a Dirichlet prior in this case, and a prior on the phylogenetic tree. In this example the Compound Dirichlet distribution (Zhang, Rannala and Yang 2012. ([paper](https://doi.org/10.1093/sysbio/sys030))) is chosen.\n",
    "\n",
    "The distribution associated with the data is the `PhyloDist`. It is a distribution whose likelihood function is calculated according to Felsensteins Pruning algorithm ([paper](https://doi.org/10.1007/BF01734359)).\n",
    "\n",
    "The *Restriction Site Model* for character evolution and no rate variation accross sites is chosen."
   ]
  },
  {
   "cell_type": "code",
   "execution_count": 5,
   "metadata": {},
   "outputs": [
    {
     "data": {
      "text/plain": [
       "Object of type \"Model\"\n",
       "-------------------------------------------------------------------------------\n",
       "eq_freq:\n",
       "Object of type \"0-element ArrayStochastic{1}\"\n",
       "Float64[]\n",
       "-------------------------------------------------------------------------------\n",
       "tree:\n",
       "Object of type \"String\"\n",
       "Tree with root:\n",
       "\"no_name\"\n",
       "Length:\n",
       "0\n",
       "Height:\n",
       "0\n",
       "Number of leave nodes:\n",
       "0\n",
       "-------------------------------------------------------------------------------\n",
       "data:\n",
       "Object of type \"0×0×0 ArrayStochastic{3}\"\n",
       "Array{Float64}(undef,0,0,0)\n"
      ]
     },
     "execution_count": 5,
     "metadata": {},
     "output_type": "execute_result"
    }
   ],
   "source": [
    "model =  Model(\n",
    "    data = Stochastic(3, (tree, eq_freq) ->  PhyloDist(tree, eq_freq, [1.0], [1.0], Restriction), false, false),\n",
    "    eq_freq = Stochastic(1, () -> Dirichlet(2,1)),\n",
    "    tree = Stochastic(Node(), () -> CompoundDirichlet(1.0,1.0,0.100,1.0), true)\n",
    "     )"
   ]
  },
  {
   "cell_type": "markdown",
   "metadata": {},
   "source": [
    "Select the PNUTS sampler for the phylogenetic tree and the Slice sampler for the equilibrium frequency."
   ]
  },
  {
   "cell_type": "code",
   "execution_count": 6,
   "metadata": {},
   "outputs": [],
   "source": [
    "scheme = [PNUTS(:tree, target=0.7, targetNNI=4),\n",
    "          SliceSimplex(:eq_freq),\n",
    "          ]\n",
    "setsamplers!(model, scheme);"
   ]
  },
  {
   "cell_type": "markdown",
   "metadata": {},
   "source": [
    "Set initial values."
   ]
  },
  {
   "cell_type": "code",
   "execution_count": 7,
   "metadata": {},
   "outputs": [],
   "source": [
    "inits = [ Dict{Symbol, Union{Any, Real}}(\n",
    "    :tree => tree,\n",
    "    :eq_freq=> rand(Dirichlet(2,1)),\n",
    "    :data => data_dictionary[:data]\n",
    "    ),\n",
    "    ];"
   ]
  },
  {
   "cell_type": "markdown",
   "metadata": {},
   "source": [
    "Run the MCMC."
   ]
  },
  {
   "cell_type": "code",
   "execution_count": 8,
   "metadata": {},
   "outputs": [
    {
     "name": "stdout",
     "output_type": "stream",
     "text": [
      "MCMC Simulation of 5000 Iterations x 1 Chain...\n",
      "\n",
      "Chain 1:   0% [4:57:59 of 4:58:35 remaining]\n",
      "Chain 1:  10% [0:05:29 of 0:06:06 remaining]\n",
      "Chain 1:  20% [0:02:29 of 0:03:06 remaining]\n",
      "Chain 1:  30% [0:01:28 of 0:02:06 remaining]\n",
      "Chain 1:  40% [0:00:58 of 0:01:36 remaining]\n",
      "Chain 1:  50% [0:00:39 of 0:01:18 remaining]\n",
      "Chain 1:  60% [0:00:27 of 0:01:06 remaining]\n",
      "Chain 1:  70% [0:00:17 of 0:00:58 remaining]\n",
      "Chain 1:  80% [0:00:10 of 0:00:51 remaining]\n",
      "Chain 1:  90% [0:00:05 of 0:00:46 remaining]\n",
      "Chain 1: 100% [0:00:00 of 0:00:42 remaining]\n",
      "\n"
     ]
    },
    {
     "data": {
      "text/plain": [
       "Object of type \"ModelChains\"\n",
       "\n",
       "Iterations = 2505:5000\n",
       "Thinning interval = 5\n",
       "Chains = 1\n",
       "Samples per chain = 500\n",
       "\n",
       "[2.969713757848305 8.509450311804892 … 0.2853148152901489 -30.128247746966053; 2.969713757848305 8.509450311804892 … 0.34596003243389967 -29.69815663586149; … ; 2.969713757848305 8.509450311804892 … 0.45050639689763894 -30.679143172543817; 2.969713757848305 8.509450311804892 … 0.24984550381883858 -30.80304100333875]"
      ]
     },
     "execution_count": 8,
     "metadata": {},
     "output_type": "execute_result"
    }
   ],
   "source": [
    "sim = mcmc(model, data_dictionary, inits, 5000, burnin=2500,thin=5, chains=1, trees=true)"
   ]
  }
 ],
 "metadata": {
  "celltoolbar": "Raw Cell Format",
  "kernelspec": {
   "display_name": "Julia 1.5.3",
   "language": "julia",
   "name": "julia-1.5"
  },
  "language_info": {
   "file_extension": ".jl",
   "mimetype": "application/julia",
   "name": "julia",
   "version": "1.5.3"
  }
 },
 "nbformat": 4,
 "nbformat_minor": 4
}
