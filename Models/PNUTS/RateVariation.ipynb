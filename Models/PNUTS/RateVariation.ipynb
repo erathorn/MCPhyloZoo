{
 "cells": [
  {
   "cell_type": "markdown",
   "metadata": {},
   "source": [
    "# Phylogenetic Inference with across site rate variation\n",
    "\n",
    "This notebook gives an example on how to do phylogenetic inference using the PNUTS algorithm and across site rate variation.\n",
    "\n",
    "First the MCPhylo package and the Random package are loaded. And the data is loaded."
   ]
  },
  {
   "cell_type": "code",
   "execution_count": null,
   "metadata": {},
   "outputs": [],
   "source": [
    "using MCPhylo;\n",
    "using Random;\n",
    "Random.seed!(1234);\n",
    "\n",
    "tree, data = make_tree_with_data(\"Example.nex\");\n",
    "\n",
    "data_dictionary = Dict{Symbol, Any}(\n",
    "  :data => data\n",
    ");"
   ]
  },
  {
   "cell_type": "markdown",
   "metadata": {},
   "source": [
    "Create a model which uses discrete gamma rates for across site rate variaton."
   ]
  },
  {
   "cell_type": "code",
   "execution_count": null,
   "metadata": {},
   "outputs": [],
   "source": [
    "model =  Model(\n",
    "    data = Stochastic(3, (tree, eq_freq, rates) ->  PhyloDist(tree, eq_freq, [1.0], rates, Restriction), false, false),\n",
    "    eq_freq = Stochastic(1, () -> Dirichlet(2,1)),\n",
    "    tree = Stochastic(Node(), () -> CompoundDirichlet(1.0,1.0,0.100,1.0), true),\n",
    "    rates = Logical(1, (a)->discrete_gamma_rates(a,a,4)),\n",
    "    a = Stochastic(()->Exponential(), true)\n",
    "     )"
   ]
  },
  {
   "cell_type": "markdown",
   "metadata": {},
   "source": [
    "Set the samplers for the tree, the equilibrium frequencies and the parameter for the discrete gamma rates."
   ]
  },
  {
   "cell_type": "code",
   "execution_count": null,
   "metadata": {},
   "outputs": [],
   "source": [
    "scheme = [PNUTS(:tree, target=0.7, targetNNI=4),\n",
    "          SliceSimplex(:eq_freq),\n",
    "          Slice(:a, 1.0)\n",
    "          ]\n",
    "\n",
    "setsamplers!(model, scheme);\n",
    "\n",
    "inits = [ Dict{Symbol, Union{Any, Real}}(\n",
    "    :tree => tree,\n",
    "    :eq_freq=> rand(Dirichlet(2,1)),\n",
    "    :data => data_dictionary[:data],\n",
    "    :a => rand()\n",
    "    ),\n",
    "    ];\n"
   ]
  },
  {
   "cell_type": "markdown",
   "metadata": {},
   "source": [
    "Run the model."
   ]
  },
  {
   "cell_type": "code",
   "execution_count": null,
   "metadata": {},
   "outputs": [],
   "source": [
    "sim = mcmc(model, data_dictionary, inits, 5000, burnin=2500,thin=5, chains=1, trees=true)"
   ]
  }
 ],
 "metadata": {
  "kernelspec": {
   "display_name": "Julia 1.5.3",
   "language": "julia",
   "name": "julia-1.5"
  },
  "language_info": {
   "file_extension": ".jl",
   "mimetype": "application/julia",
   "name": "julia",
   "version": "1.5.3"
  }
 },
 "nbformat": 4,
 "nbformat_minor": 4
}
